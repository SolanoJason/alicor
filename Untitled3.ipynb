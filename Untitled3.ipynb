{
 "cells": [
  {
   "cell_type": "code",
   "execution_count": 1,
   "id": "49b6c728-ef8b-411c-8e8e-be219d035a53",
   "metadata": {},
   "outputs": [],
   "source": [
    "from surprise import Reader, Dataset, SVD, accuracy, KNNBasic, BaselineOnly, NormalPredictor, KNNWithMeans, SVDpp\n",
    "from surprise.model_selection import cross_validate, train_test_split\n",
    "from surprise.accuracy import rmse, mae, mse\n",
    "from collections import namedtuple, defaultdict\n",
    "import pandas as pd\n",
    "import itertools\n",
    "import numpy as np\n",
    "import os\n",
    "import time\n",
    "import seaborn as sns\n",
    "from pre_processing import *"
   ]
  },
  {
   "cell_type": "markdown",
   "id": "6ac2fcd1-4fa2-409e-98bc-9c0e58cb0dbc",
   "metadata": {},
   "source": [
    "# TODO\n",
    "cambiar el rating y no darle mucha importancia a la cantidad_venta, por que lo que importa es si el cliente compra o no un producto, mas no la cantidad"
   ]
  },
  {
   "cell_type": "code",
   "execution_count": 14,
   "id": "0c45478f-6d8a-406e-aa4e-cdd7706fc2b7",
   "metadata": {},
   "outputs": [],
   "source": [
    "customers_products = matrix.copy()"
   ]
  },
  {
   "cell_type": "code",
   "execution_count": 17,
   "id": "2238b452-415f-41b9-a729-00801c04697a",
   "metadata": {},
   "outputs": [],
   "source": [
    "features = ['negocio_id', 'category_id', 'tier_id', 'business_id']\n",
    "num_features = sum([product[feature].nunique() for feature in features])"
   ]
  },
  {
   "cell_type": "code",
   "execution_count": 20,
   "id": "808f7d3c-4bfb-4960-9878-3e908cedf4de",
   "metadata": {},
   "outputs": [
    {
     "data": {
      "text/html": [
       "<div>\n",
       "<style scoped>\n",
       "    .dataframe tbody tr th:only-of-type {\n",
       "        vertical-align: middle;\n",
       "    }\n",
       "\n",
       "    .dataframe tbody tr th {\n",
       "        vertical-align: top;\n",
       "    }\n",
       "\n",
       "    .dataframe thead th {\n",
       "        text-align: right;\n",
       "    }\n",
       "</style>\n",
       "<table border=\"1\" class=\"dataframe\">\n",
       "  <thead>\n",
       "    <tr style=\"text-align: right;\">\n",
       "      <th></th>\n",
       "      <th>product_id</th>\n",
       "      <th>family_id</th>\n",
       "      <th>negocio_id</th>\n",
       "      <th>category_id</th>\n",
       "      <th>tier_id</th>\n",
       "      <th>utilidad_bruta_transf</th>\n",
       "      <th>business_id</th>\n",
       "    </tr>\n",
       "  </thead>\n",
       "  <tbody>\n",
       "    <tr>\n",
       "      <th>0</th>\n",
       "      <td>881</td>\n",
       "      <td>1291</td>\n",
       "      <td>20</td>\n",
       "      <td>131</td>\n",
       "      <td>4</td>\n",
       "      <td>10.378017</td>\n",
       "      <td>21.0</td>\n",
       "    </tr>\n",
       "    <tr>\n",
       "      <th>1</th>\n",
       "      <td>805</td>\n",
       "      <td>1224</td>\n",
       "      <td>20</td>\n",
       "      <td>131</td>\n",
       "      <td>3</td>\n",
       "      <td>10.177925</td>\n",
       "      <td>21.0</td>\n",
       "    </tr>\n",
       "    <tr>\n",
       "      <th>2</th>\n",
       "      <td>892</td>\n",
       "      <td>1089</td>\n",
       "      <td>20</td>\n",
       "      <td>146</td>\n",
       "      <td>1</td>\n",
       "      <td>10.008243</td>\n",
       "      <td>21.0</td>\n",
       "    </tr>\n",
       "    <tr>\n",
       "      <th>3</th>\n",
       "      <td>841</td>\n",
       "      <td>1224</td>\n",
       "      <td>20</td>\n",
       "      <td>131</td>\n",
       "      <td>3</td>\n",
       "      <td>7.698362</td>\n",
       "      <td>21.0</td>\n",
       "    </tr>\n",
       "    <tr>\n",
       "      <th>4</th>\n",
       "      <td>830</td>\n",
       "      <td>1089</td>\n",
       "      <td>20</td>\n",
       "      <td>131</td>\n",
       "      <td>1</td>\n",
       "      <td>7.353678</td>\n",
       "      <td>21.0</td>\n",
       "    </tr>\n",
       "    <tr>\n",
       "      <th>...</th>\n",
       "      <td>...</td>\n",
       "      <td>...</td>\n",
       "      <td>...</td>\n",
       "      <td>...</td>\n",
       "      <td>...</td>\n",
       "      <td>...</td>\n",
       "      <td>...</td>\n",
       "    </tr>\n",
       "    <tr>\n",
       "      <th>932</th>\n",
       "      <td>786</td>\n",
       "      <td>1447</td>\n",
       "      <td>22</td>\n",
       "      <td>192</td>\n",
       "      <td>1</td>\n",
       "      <td>-0.184480</td>\n",
       "      <td>21.0</td>\n",
       "    </tr>\n",
       "    <tr>\n",
       "      <th>933</th>\n",
       "      <td>832</td>\n",
       "      <td>1447</td>\n",
       "      <td>22</td>\n",
       "      <td>192</td>\n",
       "      <td>3</td>\n",
       "      <td>-0.184480</td>\n",
       "      <td>21.0</td>\n",
       "    </tr>\n",
       "    <tr>\n",
       "      <th>934</th>\n",
       "      <td>848</td>\n",
       "      <td>1447</td>\n",
       "      <td>22</td>\n",
       "      <td>192</td>\n",
       "      <td>3</td>\n",
       "      <td>-0.184480</td>\n",
       "      <td>21.0</td>\n",
       "    </tr>\n",
       "    <tr>\n",
       "      <th>935</th>\n",
       "      <td>849</td>\n",
       "      <td>1447</td>\n",
       "      <td>22</td>\n",
       "      <td>192</td>\n",
       "      <td>2</td>\n",
       "      <td>-0.184480</td>\n",
       "      <td>21.0</td>\n",
       "    </tr>\n",
       "    <tr>\n",
       "      <th>936</th>\n",
       "      <td>933</td>\n",
       "      <td>1447</td>\n",
       "      <td>22</td>\n",
       "      <td>192</td>\n",
       "      <td>3</td>\n",
       "      <td>-0.184480</td>\n",
       "      <td>21.0</td>\n",
       "    </tr>\n",
       "  </tbody>\n",
       "</table>\n",
       "<p>937 rows × 7 columns</p>\n",
       "</div>"
      ],
      "text/plain": [
       "     product_id  family_id  negocio_id  category_id  tier_id  \\\n",
       "0           881       1291          20          131        4   \n",
       "1           805       1224          20          131        3   \n",
       "2           892       1089          20          146        1   \n",
       "3           841       1224          20          131        3   \n",
       "4           830       1089          20          131        1   \n",
       "..          ...        ...         ...          ...      ...   \n",
       "932         786       1447          22          192        1   \n",
       "933         832       1447          22          192        3   \n",
       "934         848       1447          22          192        3   \n",
       "935         849       1447          22          192        2   \n",
       "936         933       1447          22          192        3   \n",
       "\n",
       "     utilidad_bruta_transf  business_id  \n",
       "0                10.378017         21.0  \n",
       "1                10.177925         21.0  \n",
       "2                10.008243         21.0  \n",
       "3                 7.698362         21.0  \n",
       "4                 7.353678         21.0  \n",
       "..                     ...          ...  \n",
       "932              -0.184480         21.0  \n",
       "933              -0.184480         21.0  \n",
       "934              -0.184480         21.0  \n",
       "935              -0.184480         21.0  \n",
       "936              -0.184480         21.0  \n",
       "\n",
       "[937 rows x 7 columns]"
      ]
     },
     "execution_count": 20,
     "metadata": {},
     "output_type": "execute_result"
    }
   ],
   "source": [
    "features_names"
   ]
  },
  {
   "cell_type": "code",
   "execution_count": 31,
   "id": "9afa0c84-5bcd-49e0-bf37-7f552468f31e",
   "metadata": {},
   "outputs": [
    {
     "data": {
      "text/plain": [
       "array([ 20.,  21.,  22., 131., 146., 181., 100., 155., 158., 191., 138.,\n",
       "       147., 149., 168., 119., 115., 173., 135., 187., 179., 163., 185.,\n",
       "       153., 174., 166., 180., 144., 178., 141., 175., 111., 112., 102.,\n",
       "       184., 108., 172., 114., 133., 150., 117., 189., 110., 109., 143.,\n",
       "       142., 137., 118., 129., 107., 162., 160., 156., 192.,   4.,   3.,\n",
       "         1.,   2.,  21.,  51.,  31.,  61.,  22.,  70.,  54.,  nan,  71.,\n",
       "        52.,  32.])"
      ]
     },
     "execution_count": 31,
     "metadata": {},
     "output_type": "execute_result"
    }
   ],
   "source": [
    "np.concatenate([product[feature].unique() for feature in features])"
   ]
  },
  {
   "cell_type": "code",
   "execution_count": 30,
   "id": "3aadcb21-bdb0-4187-9226-3b7e830e29a6",
   "metadata": {},
   "outputs": [
    {
     "data": {
      "text/plain": [
       "[array([20, 21, 22], dtype=int64),\n",
       " array([131, 146, 181, 100, 155, 158, 191, 138, 147, 149, 168, 119, 115,\n",
       "        173, 135, 187, 179, 163, 185, 153, 174, 166, 180, 144, 178, 141,\n",
       "        175, 111, 112, 102, 184, 108, 172, 114, 133, 150, 117, 189, 110,\n",
       "        109, 143, 142, 137, 118, 129, 107, 162, 160, 156, 192], dtype=int64),\n",
       " array([4, 3, 1, 2], dtype=int64),\n",
       " array([21., 51., 31., 61., 22., 70., 54., nan, 71., 52., 32.])]"
      ]
     },
     "execution_count": 30,
     "metadata": {},
     "output_type": "execute_result"
    }
   ],
   "source": [
    "[product[feature].unique() for feature in features]"
   ]
  },
  {
   "cell_type": "code",
   "execution_count": 33,
   "id": "9f06682c-4571-44a0-a138-9bdce9411402",
   "metadata": {},
   "outputs": [
    {
     "data": {
      "text/plain": [
       "array([4, 3, 1, 2], dtype=int64)"
      ]
     },
     "execution_count": 33,
     "metadata": {},
     "output_type": "execute_result"
    }
   ],
   "source": [
    "product['tier_id'].unique()"
   ]
  }
 ],
 "metadata": {
  "kernelspec": {
   "display_name": "Python 3 (ipykernel)",
   "language": "python",
   "name": "python3"
  },
  "language_info": {
   "codemirror_mode": {
    "name": "ipython",
    "version": 3
   },
   "file_extension": ".py",
   "mimetype": "text/x-python",
   "name": "python",
   "nbconvert_exporter": "python",
   "pygments_lexer": "ipython3",
   "version": "3.10.0"
  },
  "widgets": {
   "application/vnd.jupyter.widget-state+json": {
    "state": {},
    "version_major": 2,
    "version_minor": 0
   }
  }
 },
 "nbformat": 4,
 "nbformat_minor": 5
}
