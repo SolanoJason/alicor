{
 "cells": [
  {
   "cell_type": "code",
   "execution_count": 1,
   "id": "48a26904-7bbf-4f34-ade0-a90cff59f086",
   "metadata": {},
   "outputs": [],
   "source": [
    "import tensorflow as tf\n",
    "import numpy as np\n",
    "import pandas as pd\n",
    "import seaborn as sns"
   ]
  },
  {
   "cell_type": "code",
   "execution_count": 2,
   "id": "1a7f124a-7e67-49fd-b973-968db77b4866",
   "metadata": {},
   "outputs": [
    {
     "data": {
      "text/plain": [
       "<tf.Tensor: shape=(4, 5), dtype=float32, numpy=\n",
       "array([[ 4.,  6.,  8.,  0.,  0.],\n",
       "       [ 0.,  0., 10.,  0.,  8.],\n",
       "       [ 0.,  6.,  0.,  0.,  3.],\n",
       "       [10.,  9.,  0.,  5.,  0.]], dtype=float32)>"
      ]
     },
     "execution_count": 2,
     "metadata": {},
     "output_type": "execute_result"
    }
   ],
   "source": [
    "user_movies = tf.constant([[4,6,8,0,0],\n",
    "                           [0,0,10,0,8],\n",
    "                           [0,6,0,0,3],\n",
    "                           [10,9,0,5,0]], dtype='float32')\n",
    "num_users = user_movies.shape[0]\n",
    "user_movies"
   ]
  },
  {
   "cell_type": "code",
   "execution_count": 3,
   "id": "054f7c0b-1abd-49a8-b075-37bdf00ceb53",
   "metadata": {},
   "outputs": [
    {
     "data": {
      "text/plain": [
       "<tf.Tensor: shape=(5, 5), dtype=float32, numpy=\n",
       "array([[1., 1., 0., 0., 1.],\n",
       "       [1., 1., 0., 0., 0.],\n",
       "       [0., 0., 1., 1., 0.],\n",
       "       [1., 0., 1., 1., 0.],\n",
       "       [0., 0., 0., 0., 1.]], dtype=float32)>"
      ]
     },
     "execution_count": 3,
     "metadata": {},
     "output_type": "execute_result"
    }
   ],
   "source": [
    "movies_feature = tf.constant([[1,1,0,0,1],\n",
    "                              [1,1,0,0,0],\n",
    "                              [0,0,1,1,0],\n",
    "                              [1,0,1,1,0],\n",
    "                              [0,0,0,0,1]], dtype='float32')\n",
    "movies_feature"
   ]
  },
  {
   "cell_type": "code",
   "execution_count": 11,
   "id": "b17c9196-1b03-45dc-9314-4dd01bd3b87d",
   "metadata": {},
   "outputs": [],
   "source": [
    "wgtd_feature_matrices = [tf.transpose(user_movies[i:i+1]) * movies_feature for i in range(num_users)]"
   ]
  },
  {
   "cell_type": "code",
   "execution_count": 10,
   "id": "d8199699-4fc4-4998-a8dc-b654d305a269",
   "metadata": {},
   "outputs": [
    {
     "data": {
      "text/plain": [
       "<tf.Tensor: shape=(4, 5, 5), dtype=float32, numpy=\n",
       "array([[[ 4.,  4.,  0.,  0.,  4.],\n",
       "        [ 6.,  6.,  0.,  0.,  0.],\n",
       "        [ 0.,  0.,  8.,  8.,  0.],\n",
       "        [ 0.,  0.,  0.,  0.,  0.],\n",
       "        [ 0.,  0.,  0.,  0.,  0.]],\n",
       "\n",
       "       [[ 0.,  0.,  0.,  0.,  0.],\n",
       "        [ 0.,  0.,  0.,  0.,  0.],\n",
       "        [ 0.,  0., 10., 10.,  0.],\n",
       "        [ 0.,  0.,  0.,  0.,  0.],\n",
       "        [ 0.,  0.,  0.,  0.,  8.]],\n",
       "\n",
       "       [[ 0.,  0.,  0.,  0.,  0.],\n",
       "        [ 6.,  6.,  0.,  0.,  0.],\n",
       "        [ 0.,  0.,  0.,  0.,  0.],\n",
       "        [ 0.,  0.,  0.,  0.,  0.],\n",
       "        [ 0.,  0.,  0.,  0.,  3.]],\n",
       "\n",
       "       [[10., 10.,  0.,  0., 10.],\n",
       "        [ 9.,  9.,  0.,  0.,  0.],\n",
       "        [ 0.,  0.,  0.,  0.,  0.],\n",
       "        [ 5.,  0.,  5.,  5.,  0.],\n",
       "        [ 0.,  0.,  0.,  0.,  0.]]], dtype=float32)>"
      ]
     },
     "execution_count": 10,
     "metadata": {},
     "output_type": "execute_result"
    }
   ],
   "source": [
    "user_movies_feats = tf.stack(wgtd_feature_matrices, axis=0)\n",
    "user_movies_feats"
   ]
  },
  {
   "cell_type": "code",
   "execution_count": 12,
   "id": "ad539628-ec09-4842-93e8-76ac8467df0f",
   "metadata": {},
   "outputs": [
    {
     "data": {
      "text/plain": [
       "<tf.Tensor: shape=(4, 5), dtype=float32, numpy=\n",
       "array([[10., 10.,  8.,  8.,  4.],\n",
       "       [ 0.,  0., 10., 10.,  8.],\n",
       "       [ 6.,  6.,  0.,  0.,  3.],\n",
       "       [24., 19.,  5.,  5., 10.]], dtype=float32)>"
      ]
     },
     "execution_count": 12,
     "metadata": {},
     "output_type": "execute_result"
    }
   ],
   "source": [
    "users_movies_feats_sum"
   ]
  },
  {
   "cell_type": "code",
   "execution_count": 13,
   "id": "e76a7045-026c-4766-b256-68959414b676",
   "metadata": {},
   "outputs": [
    {
     "data": {
      "text/plain": [
       "<tf.Tensor: shape=(4,), dtype=float32, numpy=array([40., 28., 15., 63.], dtype=float32)>"
      ]
     },
     "execution_count": 13,
     "metadata": {},
     "output_type": "execute_result"
    }
   ],
   "source": [
    "users_movies_feats_total"
   ]
  },
  {
   "cell_type": "code",
   "execution_count": 6,
   "id": "d5f96713-32c6-4494-8fc6-ee6956864e81",
   "metadata": {},
   "outputs": [],
   "source": [
    "users_movies_feats_sum = tf.reduce_sum(user_movies_feats, axis=1)\n",
    "users_movies_feats_total = tf.reduce_sum(users_movies_feats_sum, axis=1)\n",
    "users_feats = users_movies_feats_sum / users_movies_feats_total[:, np.newaxis]"
   ]
  },
  {
   "cell_type": "code",
   "execution_count": 7,
   "id": "68f456cc-04e9-4689-8c7c-faa88c1c4b0c",
   "metadata": {},
   "outputs": [
    {
     "data": {
      "text/plain": [
       "<tf.Tensor: shape=(4, 5), dtype=float32, numpy=\n",
       "array([[0.6       , 0.5       , 0.4       , 0.65      , 0.1       ],\n",
       "       [0.2857143 , 0.        , 0.71428573, 0.71428573, 0.2857143 ],\n",
       "       [1.        , 0.8       , 0.        , 0.4       , 0.2       ],\n",
       "       [0.84126985, 0.6825397 , 0.15873016, 0.53968257, 0.15873016]],\n",
       "      dtype=float32)>"
      ]
     },
     "execution_count": 7,
     "metadata": {},
     "output_type": "execute_result"
    }
   ],
   "source": [
    "users_ratings = [users_feats[i] * movies_feature for i in range(num_users)]\n",
    "users_ratings = tf.stack(users_ratings, axis=0)\n",
    "users_ratings = tf.reduce_sum(users_ratings, axis=2)\n",
    "users_ratings"
   ]
  },
  {
   "cell_type": "code",
   "execution_count": 8,
   "id": "286dbfdb-bc35-46b7-a475-85708ce10fa3",
   "metadata": {},
   "outputs": [
    {
     "data": {
      "text/plain": [
       "<tf.Tensor: shape=(4, 5), dtype=float32, numpy=\n",
       "array([[       nan,        nan,        nan, 0.65      , 0.1       ],\n",
       "       [0.2857143 , 0.        ,        nan, 0.71428573,        nan],\n",
       "       [1.        ,        nan, 0.        , 0.4       ,        nan],\n",
       "       [       nan,        nan, 0.15873016,        nan, 0.15873016]],\n",
       "      dtype=float32)>"
      ]
     },
     "execution_count": 8,
     "metadata": {},
     "output_type": "execute_result"
    }
   ],
   "source": [
    "users_ranking_matrix = tf.where(user_movies == 0, x=users_ratings, y=np.nan)\n",
    "users_ranking_matrix"
   ]
  },
  {
   "cell_type": "code",
   "execution_count": null,
   "id": "639f0fd9-65ca-4850-8d24-62953ecb7292",
   "metadata": {},
   "outputs": [],
   "source": []
  }
 ],
 "metadata": {
  "kernelspec": {
   "display_name": "Python 3 (ipykernel)",
   "language": "python",
   "name": "python3"
  },
  "language_info": {
   "codemirror_mode": {
    "name": "ipython",
    "version": 3
   },
   "file_extension": ".py",
   "mimetype": "text/x-python",
   "name": "python",
   "nbconvert_exporter": "python",
   "pygments_lexer": "ipython3",
   "version": "3.10.0"
  },
  "widgets": {
   "application/vnd.jupyter.widget-state+json": {
    "state": {},
    "version_major": 2,
    "version_minor": 0
   }
  }
 },
 "nbformat": 4,
 "nbformat_minor": 5
}
